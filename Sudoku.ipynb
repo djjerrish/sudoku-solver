{
  "nbformat": 4,
  "nbformat_minor": 0,
  "metadata": {
    "colab": {
      "name": "Sudoku.ipynb",
      "provenance": [],
      "collapsed_sections": [
        "JkYWKQH0pgOM"
      ]
    },
    "kernelspec": {
      "name": "python3",
      "display_name": "Python 3"
    },
    "accelerator": "GPU"
  },
  "cells": [
    {
      "cell_type": "code",
      "metadata": {
        "id": "9tgRnXFgQtuE",
        "colab_type": "code",
        "colab": {
          "base_uri": "https://localhost:8080/",
          "height": 102
        },
        "outputId": "fb4509b7-b1bd-4590-c57e-ad44123e888a"
      },
      "source": [
        "!pip install \"torch==1.4\" \"torchvision==0.5.0\""
      ],
      "execution_count": null,
      "outputs": [
        {
          "output_type": "stream",
          "text": [
            "Requirement already satisfied: torch==1.4 in /usr/local/lib/python3.6/dist-packages (1.4.0)\n",
            "Requirement already satisfied: torchvision==0.5.0 in /usr/local/lib/python3.6/dist-packages (0.5.0)\n",
            "Requirement already satisfied: six in /usr/local/lib/python3.6/dist-packages (from torchvision==0.5.0) (1.12.0)\n",
            "Requirement already satisfied: pillow>=4.1.1 in /usr/local/lib/python3.6/dist-packages (from torchvision==0.5.0) (7.0.0)\n",
            "Requirement already satisfied: numpy in /usr/local/lib/python3.6/dist-packages (from torchvision==0.5.0) (1.18.5)\n"
          ],
          "name": "stdout"
        }
      ]
    },
    {
      "cell_type": "code",
      "metadata": {
        "id": "VBveZeFhYwgN",
        "colab_type": "code",
        "colab": {}
      },
      "source": [
        "from fastai import *\n",
        "from fastai.vision import *"
      ],
      "execution_count": null,
      "outputs": []
    },
    {
      "cell_type": "code",
      "metadata": {
        "id": "KFUJq0efY8eA",
        "colab_type": "code",
        "colab": {}
      },
      "source": [
        "import cv2"
      ],
      "execution_count": null,
      "outputs": []
    },
    {
      "cell_type": "code",
      "metadata": {
        "id": "GpGqzUi4-Kw_",
        "colab_type": "code",
        "colab": {}
      },
      "source": [
        "from google.colab.patches import cv2_imshow"
      ],
      "execution_count": null,
      "outputs": []
    },
    {
      "cell_type": "code",
      "metadata": {
        "id": "w0ULunJPZHxp",
        "colab_type": "code",
        "colab": {
          "base_uri": "https://localhost:8080/",
          "height": 34
        },
        "outputId": "afd94512-f55a-422f-c9a0-26b4f70d400f"
      },
      "source": [
        "from google.colab import drive\n",
        "drive.mount('/content/drive', force_remount=True)"
      ],
      "execution_count": null,
      "outputs": [
        {
          "output_type": "stream",
          "text": [
            "Mounted at /content/drive\n"
          ],
          "name": "stdout"
        }
      ]
    },
    {
      "cell_type": "code",
      "metadata": {
        "id": "JV_zgX2PZrAU",
        "colab_type": "code",
        "colab": {}
      },
      "source": [
        "path = Path('drive/My Drive/')"
      ],
      "execution_count": null,
      "outputs": []
    },
    {
      "cell_type": "code",
      "metadata": {
        "id": "ooSPbEysaIyX",
        "colab_type": "code",
        "colab": {}
      },
      "source": [
        "sudoku_path = path/'sudoku'\n",
        "mnist_path = path/'mnist training'"
      ],
      "execution_count": null,
      "outputs": []
    },
    {
      "cell_type": "code",
      "metadata": {
        "id": "SZ-fBnfiX_kZ",
        "colab_type": "code",
        "colab": {}
      },
      "source": [
        "os.listdir(sudoku_path)"
      ],
      "execution_count": null,
      "outputs": []
    },
    {
      "cell_type": "markdown",
      "metadata": {
        "id": "JkYWKQH0pgOM",
        "colab_type": "text"
      },
      "source": [
        "# **Image Processing**"
      ]
    },
    {
      "cell_type": "code",
      "metadata": {
        "id": "manuhkGVObKE",
        "colab_type": "code",
        "colab": {}
      },
      "source": [
        "def img_scaling(img):\n",
        "  scale_percent = 60 # percent of original size\n",
        "  width = int(img.shape[1] * scale_percent / 100)\n",
        "  height = int(img.shape[0] * scale_percent / 100)\n",
        "  dim = (width, height)\n",
        "  resized = cv2.resize(img, dim, interpolation = cv2.INTER_AREA)\n",
        "  return resized"
      ],
      "execution_count": null,
      "outputs": []
    },
    {
      "cell_type": "code",
      "metadata": {
        "id": "ZaOiryuqDrUS",
        "colab_type": "code",
        "colab": {}
      },
      "source": [
        "def process_img(proc):\n",
        "  for i in range(3):\n",
        "    proc = cv2.GaussianBlur(proc.copy(), (9, 9), 0)\n",
        "\n",
        "  proc = cv2.adaptiveThreshold(proc, 255, cv2.ADAPTIVE_THRESH_GAUSSIAN_C, cv2.THRESH_BINARY_INV, 11, 2)\n",
        "\n",
        "  return proc"
      ],
      "execution_count": null,
      "outputs": []
    },
    {
      "cell_type": "code",
      "metadata": {
        "id": "3WPNwhJ0Q7Cy",
        "colab_type": "code",
        "colab": {}
      },
      "source": [
        "def contour_find(dst):\n",
        "  contours, hierarchy = cv2.findContours(dst,cv2.RETR_TREE,cv2.CHAIN_APPROX_SIMPLE)\n",
        "\n",
        "  contours = sorted(contours, key=cv2.contourArea, reverse=True)\n",
        "  polygon = contours[0]\n",
        "\n",
        "  bottom_right, _ = max(enumerate([pt[0][0] + pt[0][1] for pt in\n",
        "   polygon]), key=operator.itemgetter(1))\n",
        "  top_left, _ = min(enumerate([pt[0][0] + pt[0][1] for pt in\n",
        "   polygon]), key=operator.itemgetter(1))\n",
        "  bottom_left, _ = min(enumerate([pt[0][0] - pt[0][1] for pt in\n",
        "   polygon]), key=operator.itemgetter(1))\n",
        "  top_right, _ = max(enumerate([pt[0][0] - pt[0][1] for pt in\n",
        "   polygon]), key=operator.itemgetter(1))\n",
        "\n",
        "  lst = [polygon[top_left][0], polygon[bottom_left][0], polygon[bottom_right][0], polygon[top_right][0]]\n",
        "  points = np.array(lst)\n",
        "\n",
        "  return points"
      ],
      "execution_count": null,
      "outputs": []
    },
    {
      "cell_type": "code",
      "metadata": {
        "id": "fN4I9CP8WoUZ",
        "colab_type": "code",
        "colab": {}
      },
      "source": [
        "def order_points(pts):\n",
        "    rect = np.zeros((4, 2), dtype = \"float32\")\n",
        "    \n",
        "    s = pts.sum(axis = 1)\n",
        "    rect[0] = pts[0]\n",
        "    rect[2] = pts[2]\n",
        "    \n",
        "    diff = np.diff(pts, axis = 1)\n",
        "    rect[3] = pts[3]\n",
        "    rect[1] = pts[1]\n",
        "    \n",
        "    return rect"
      ],
      "execution_count": null,
      "outputs": []
    },
    {
      "cell_type": "code",
      "metadata": {
        "id": "-P83AqxOXXrR",
        "colab_type": "code",
        "colab": {}
      },
      "source": [
        "def four_point_transform(image, pts):\n",
        "    rect = order_points(pts)\n",
        "    (tl, tr, br, bl) = rect\n",
        "\n",
        "    widthA = np.sqrt(((br[0] - bl[0]) ** 2) + ((br[1] - bl[1]) ** 2))\n",
        "    widthB = np.sqrt(((tr[0] - tl[0]) ** 2) + ((tr[1] - tl[1]) ** 2))\n",
        "    maxWidth = max(int(widthA), int(widthB))\n",
        "\n",
        "    heightA = np.sqrt(((tr[0] - br[0]) ** 2) + ((tr[1] - br[1]) ** 2))\n",
        "    heightB = np.sqrt(((tl[0] - bl[0]) ** 2) + ((tl[1] - bl[1]) ** 2))\n",
        "    maxHeight = max(int(heightA), int(heightB))\n",
        "\n",
        "    dst = np.array([[0, 0], [0, maxHeight - 1],[maxWidth - 1, maxHeight - 1], [maxWidth - 1, 0]], dtype = \"float32\")\n",
        "\n",
        "    M = cv2.getPerspectiveTransform(rect, dst)\n",
        "    warped = cv2.warpPerspective(image, M, (maxWidth, maxHeight))\n",
        "\n",
        "    # return the warped image\n",
        "    return warped"
      ],
      "execution_count": null,
      "outputs": []
    },
    {
      "cell_type": "code",
      "metadata": {
        "id": "5gcHyY8soGXG",
        "colab_type": "code",
        "colab": {}
      },
      "source": [
        "def getCellPositions(img_PT):\n",
        "    #resizing the images to take the shape of the NN model\n",
        "    img_PT = cv2.resize(img_PT,(252,252))\n",
        "    #computing position of each cell and storing in an array of arrays\n",
        "    cell_positions = []\n",
        "    \n",
        "    width = img_PT.shape[1]\n",
        "    height = img_PT.shape[0]\n",
        "    \n",
        "    cell_width = 32\n",
        "    cell_height = 40\n",
        "\n",
        "    side_border = 8\n",
        "    top_border = 8\n",
        "    \n",
        "    x1,x2,y1,y2 = 0,0,side_border,0\n",
        "    \n",
        "    for i in range(9):\n",
        "        y2 = y1 + cell_height \n",
        "        x1 = 0 + side_border\n",
        "        for j in range(9):\n",
        "            x2 = x1 + cell_width + top_border\n",
        "            current_cell = [x1,x2,y1,y2]\n",
        "            cell_positions.append(current_cell)\n",
        "            x1 = x2 + side_border\n",
        "        y1 = y2 + top_border\n",
        "    return cell_positions"
      ],
      "execution_count": null,
      "outputs": []
    },
    {
      "cell_type": "code",
      "metadata": {
        "id": "DkvO4RB8hroN",
        "colab_type": "code",
        "colab": {}
      },
      "source": [
        "def crop_cells(final_img):\n",
        "  posns = getCellPositions(final_img)\n",
        "\n",
        "  cropped_final = []\n",
        "\n",
        "  for i in range(9):\n",
        "    for j in range(9):\n",
        "      pos = j*9 + i\n",
        "      tmp_crop = final_img[posns[pos][0]:posns[pos][1], posns[pos][2]:posns[pos][3]]\n",
        "      cropped_final.append(tmp_crop)\n",
        "  \n",
        "  return cropped_final"
      ],
      "execution_count": null,
      "outputs": []
    },
    {
      "cell_type": "markdown",
      "metadata": {
        "id": "4oF6LgJ2Lk7M",
        "colab_type": "text"
      },
      "source": [
        "# **Script for Image processing**"
      ]
    },
    {
      "cell_type": "code",
      "metadata": {
        "id": "aCuBOJPYLwWX",
        "colab_type": "code",
        "colab": {
          "base_uri": "https://localhost:8080/",
          "height": 666
        },
        "outputId": "3fbd88fb-9ca9-4c85-9f4a-d41ae598dc3f"
      },
      "source": [
        "name = 'dad3.jpeg'\n",
        "\n",
        "img = cv2.imread(f'drive/My Drive/sudoku/{name}')\n",
        "\n",
        "if img.shape[0]>640 and img.shape[1]>480:\n",
        "  img = img_scaling(img)\n",
        "\n",
        "proc = cv2.cvtColor(img, cv2.COLOR_BGR2GRAY)\n",
        "\n",
        "proc = process_img(proc)\n",
        "\n",
        "points = contour_find(proc)\n",
        "\n",
        "final_img = four_point_transform(proc, points)\n",
        "final_img = cv2.resize(final_img, (440,440))\n",
        "\n",
        "cropped_final = crop_cells(final_img)"
      ],
      "execution_count": null,
      "outputs": [
        {
          "output_type": "display_data",
          "data": {
            "image/png": "[encoded data removed]",
            "text/plain": [
              "<PIL.Image.Image image mode=L size=648x649 at 0x7F146FA9A978>"
            ]
          },
          "metadata": {
            "tags": []
          }
        }
      ]
    },
    {
      "cell_type": "code",
      "metadata": {
        "id": "QOSJNsJePzN2",
        "colab_type": "code",
        "colab": {
          "base_uri": "https://localhost:8080/",
          "height": 457
        },
        "outputId": "886b622d-de32-4d02-f480-bd2bbcb08edf"
      },
      "source": [
        "cv2_imshow(final_img)"
      ],
      "execution_count": null,
      "outputs": [
        {
          "output_type": "display_data",
          "data": {
            "image/png": "[encoded data removed]",
            "text/plain": [
              "<PIL.Image.Image image mode=L size=440x440 at 0x7F146FDCB668>"
            ]
          },
          "metadata": {
            "tags": []
          }
        }
      ]
    },
    {
      "cell_type": "markdown",
      "metadata": {
        "id": "wLFhLuZBp7HX",
        "colab_type": "text"
      },
      "source": [
        "# **Digit Recognition Model**"
      ]
    },
    {
      "cell_type": "code",
      "metadata": {
        "id": "9kppxUZqMLjm",
        "colab_type": "code",
        "colab": {}
      },
      "source": [
        "tfms = get_transforms(do_flip=False)"
      ],
      "execution_count": null,
      "outputs": []
    },
    {
      "cell_type": "code",
      "metadata": {
        "id": "v_vrgWZgqJBR",
        "colab_type": "code",
        "colab": {}
      },
      "source": [
        "mnist_data = (ImageList.from_folder(mnist_path) #Where to find the data? -> in path and its subfolders\n",
        "        .split_by_rand_pct()          #How to split in train/valid? -> use the folders\n",
        "        .label_from_folder()            #How to label? -> depending on the folder of the filenames\n",
        "        .transform(tfms, size=28)       #Data augmentation? -> use tfms with a size of 64\n",
        "        .databunch())  "
      ],
      "execution_count": null,
      "outputs": []
    },
    {
      "cell_type": "code",
      "metadata": {
        "id": "hYL9Q5ulONmF",
        "colab_type": "code",
        "colab": {
          "base_uri": "https://localhost:8080/",
          "height": 441
        },
        "outputId": "c3d7cd2d-2788-4f99-ed9b-d7dc18b46cd7"
      },
      "source": [
        "mnist_data.show_batch(3, figsize=(6,6), hide_axis=False)"
      ],
      "execution_count": null,
      "outputs": [
        {
          "output_type": "display_data",
          "data": {
            "image/png": "[encoded data removed]",
            "text/plain": [
              "<Figure size 432x432 with 9 Axes>"
            ]
          },
          "metadata": {
            "tags": [],
            "needs_background": "light"
          }
        }
      ]
    },
    {
      "cell_type": "code",
      "metadata": {
        "id": "elUVihALMq1m",
        "colab_type": "code",
        "colab": {
          "base_uri": "https://localhost:8080/",
          "height": 34
        },
        "outputId": "b4516378-74be-4201-f85c-1dc85ea30e28"
      },
      "source": [
        "mnist_data.classes"
      ],
      "execution_count": null,
      "outputs": [
        {
          "output_type": "execute_result",
          "data": {
            "text/plain": [
              "['1', '2', '3', '4', '5', '6', '7', '8', '9', 'blank']"
            ]
          },
          "metadata": {
            "tags": []
          },
          "execution_count": 12
        }
      ]
    },
    {
      "cell_type": "code",
      "metadata": {
        "id": "I6MwI_9vNQK8",
        "colab_type": "code",
        "colab": {
          "base_uri": "https://localhost:8080/",
          "height": 51
        },
        "outputId": "7d17d716-aea1-483b-d7c3-d921fdc28c37"
      },
      "source": [
        "learn = create_cnn(mnist_data, models.resnet34, metrics=error_rate)"
      ],
      "execution_count": null,
      "outputs": [
        {
          "output_type": "stream",
          "text": [
            "/usr/local/lib/python3.6/dist-packages/fastai/vision/learner.py:109: UserWarning: `create_cnn` is deprecated and is now named `cnn_learner`.\n",
            "  warn(\"`create_cnn` is deprecated and is now named `cnn_learner`.\")\n"
          ],
          "name": "stderr"
        }
      ]
    },
    {
      "cell_type": "code",
      "metadata": {
        "id": "vTjurmZrNc2q",
        "colab_type": "code",
        "colab": {
          "base_uri": "https://localhost:8080/",
          "height": 440
        },
        "outputId": "581e15bb-362f-4f6a-ef47-7e4e075dc3f3"
      },
      "source": [
        "lr_find(learn)\n",
        "learn.recorder.plot()"
      ],
      "execution_count": null,
      "outputs": [
        {
          "output_type": "display_data",
          "data": {
            "text/html": [
              "\n",
              "    <div>\n",
              "        <style>\n",
              "            /* Turns off some styling */\n",
              "            progress {\n",
              "                /* gets rid of default border in Firefox and Opera. */\n",
              "                border: none;\n",
              "                /* Needs to be in here for Safari polyfill so background images work as expected. */\n",
              "                background-size: auto;\n",
              "            }\n",
              "            .progress-bar-interrupted, .progress-bar-interrupted::-webkit-progress-bar {\n",
              "                background: #F44336;\n",
              "            }\n",
              "        </style>\n",
              "      <progress value='2' class='' max='3' style='width:300px; height:20px; vertical-align: middle;'></progress>\n",
              "      66.67% [2/3 00:22<00:11]\n",
              "    </div>\n",
              "    \n",
              "<table border=\"1\" class=\"dataframe\">\n",
              "  <thead>\n",
              "    <tr style=\"text-align: left;\">\n",
              "      <th>epoch</th>\n",
              "      <th>train_loss</th>\n",
              "      <th>valid_loss</th>\n",
              "      <th>error_rate</th>\n",
              "      <th>time</th>\n",
              "    </tr>\n",
              "  </thead>\n",
              "  <tbody>\n",
              "    <tr>\n",
              "      <td>0</td>\n",
              "      <td>0.139581</td>\n",
              "      <td>#na#</td>\n",
              "      <td>00:11</td>\n",
              "    </tr>\n",
              "    <tr>\n",
              "      <td>1</td>\n",
              "      <td>0.206707</td>\n",
              "      <td>#na#</td>\n",
              "      <td>00:11</td>\n",
              "    </tr>\n",
              "  </tbody>\n",
              "</table><p>\n",
              "\n",
              "    <div>\n",
              "        <style>\n",
              "            /* Turns off some styling */\n",
              "            progress {\n",
              "                /* gets rid of default border in Firefox and Opera. */\n",
              "                border: none;\n",
              "                /* Needs to be in here for Safari polyfill so background images work as expected. */\n",
              "                background-size: auto;\n",
              "            }\n",
              "            .progress-bar-interrupted, .progress-bar-interrupted::-webkit-progress-bar {\n",
              "                background: #F44336;\n",
              "            }\n",
              "        </style>\n",
              "      <progress value='6' class='' max='37' style='width:300px; height:20px; vertical-align: middle;'></progress>\n",
              "      16.22% [6/37 00:01<00:10 0.4762]\n",
              "    </div>\n",
              "    "
            ],
            "text/plain": [
              "<IPython.core.display.HTML object>"
            ]
          },
          "metadata": {
            "tags": []
          }
        },
        {
          "output_type": "stream",
          "text": [
            "LR Finder is complete, type {learner_name}.recorder.plot() to see the graph.\n"
          ],
          "name": "stdout"
        },
        {
          "output_type": "display_data",
          "data": {
            "image/png": "[encoded data removed]",
            "text/plain": [
              "<Figure size 432x288 with 1 Axes>"
            ]
          },
          "metadata": {
            "tags": [],
            "needs_background": "light"
          }
        }
      ]
    },
    {
      "cell_type": "code",
      "metadata": {
        "id": "YIhmZQXKaU5H",
        "colab_type": "code",
        "colab": {
          "base_uri": "https://localhost:8080/",
          "height": 204
        },
        "outputId": "e16f574e-ee29-466f-861d-89ec652b069d"
      },
      "source": [
        "learn.fit_one_cycle(5)"
      ],
      "execution_count": null,
      "outputs": [
        {
          "output_type": "display_data",
          "data": {
            "text/html": [
              "<table border=\"1\" class=\"dataframe\">\n",
              "  <thead>\n",
              "    <tr style=\"text-align: left;\">\n",
              "      <th>epoch</th>\n",
              "      <th>train_loss</th>\n",
              "      <th>valid_loss</th>\n",
              "      <th>error_rate</th>\n",
              "      <th>time</th>\n",
              "    </tr>\n",
              "  </thead>\n",
              "  <tbody>\n",
              "    <tr>\n",
              "      <td>0</td>\n",
              "      <td>2.394792</td>\n",
              "      <td>1.771211</td>\n",
              "      <td>0.528146</td>\n",
              "      <td>00:17</td>\n",
              "    </tr>\n",
              "    <tr>\n",
              "      <td>1</td>\n",
              "      <td>1.693678</td>\n",
              "      <td>1.106790</td>\n",
              "      <td>0.319536</td>\n",
              "      <td>00:13</td>\n",
              "    </tr>\n",
              "    <tr>\n",
              "      <td>2</td>\n",
              "      <td>1.360635</td>\n",
              "      <td>0.840072</td>\n",
              "      <td>0.248344</td>\n",
              "      <td>00:13</td>\n",
              "    </tr>\n",
              "    <tr>\n",
              "      <td>3</td>\n",
              "      <td>1.157406</td>\n",
              "      <td>0.759672</td>\n",
              "      <td>0.226821</td>\n",
              "      <td>00:13</td>\n",
              "    </tr>\n",
              "    <tr>\n",
              "      <td>4</td>\n",
              "      <td>1.008161</td>\n",
              "      <td>0.737404</td>\n",
              "      <td>0.225166</td>\n",
              "      <td>00:13</td>\n",
              "    </tr>\n",
              "  </tbody>\n",
              "</table>"
            ],
            "text/plain": [
              "<IPython.core.display.HTML object>"
            ]
          },
          "metadata": {
            "tags": []
          }
        }
      ]
    },
    {
      "cell_type": "code",
      "metadata": {
        "id": "A20cQtxicPn8",
        "colab_type": "code",
        "colab": {}
      },
      "source": [
        "learn.save('stage-1')"
      ],
      "execution_count": null,
      "outputs": []
    },
    {
      "cell_type": "code",
      "metadata": {
        "id": "7cZTg7yuSEzd",
        "colab_type": "code",
        "colab": {
          "base_uri": "https://localhost:8080/",
          "height": 204
        },
        "outputId": "1f178723-fd5f-4182-f40f-7c78558d3dc4"
      },
      "source": [
        "learn.fit_one_cycle(5)"
      ],
      "execution_count": null,
      "outputs": [
        {
          "output_type": "display_data",
          "data": {
            "text/html": [
              "<table border=\"1\" class=\"dataframe\">\n",
              "  <thead>\n",
              "    <tr style=\"text-align: left;\">\n",
              "      <th>epoch</th>\n",
              "      <th>train_loss</th>\n",
              "      <th>valid_loss</th>\n",
              "      <th>error_rate</th>\n",
              "      <th>time</th>\n",
              "    </tr>\n",
              "  </thead>\n",
              "  <tbody>\n",
              "    <tr>\n",
              "      <td>0</td>\n",
              "      <td>0.905751</td>\n",
              "      <td>0.710091</td>\n",
              "      <td>0.215232</td>\n",
              "      <td>00:13</td>\n",
              "    </tr>\n",
              "    <tr>\n",
              "      <td>1</td>\n",
              "      <td>0.896853</td>\n",
              "      <td>0.660098</td>\n",
              "      <td>0.197020</td>\n",
              "      <td>00:13</td>\n",
              "    </tr>\n",
              "    <tr>\n",
              "      <td>2</td>\n",
              "      <td>0.833611</td>\n",
              "      <td>0.602497</td>\n",
              "      <td>0.192053</td>\n",
              "      <td>00:13</td>\n",
              "    </tr>\n",
              "    <tr>\n",
              "      <td>3</td>\n",
              "      <td>0.762174</td>\n",
              "      <td>0.560830</td>\n",
              "      <td>0.172185</td>\n",
              "      <td>00:13</td>\n",
              "    </tr>\n",
              "    <tr>\n",
              "      <td>4</td>\n",
              "      <td>0.720428</td>\n",
              "      <td>0.559739</td>\n",
              "      <td>0.183775</td>\n",
              "      <td>00:13</td>\n",
              "    </tr>\n",
              "  </tbody>\n",
              "</table>"
            ],
            "text/plain": [
              "<IPython.core.display.HTML object>"
            ]
          },
          "metadata": {
            "tags": []
          }
        }
      ]
    },
    {
      "cell_type": "code",
      "metadata": {
        "id": "TZyNkYVUS-3n",
        "colab_type": "code",
        "colab": {}
      },
      "source": [
        "learn.save('stage-2')"
      ],
      "execution_count": null,
      "outputs": []
    },
    {
      "cell_type": "code",
      "metadata": {
        "id": "m9LxHBKtTEgS",
        "colab_type": "code",
        "colab": {
          "base_uri": "https://localhost:8080/",
          "height": 359
        },
        "outputId": "32e03f5d-8eb8-461e-b166-072272846361"
      },
      "source": [
        "learn.fit_one_cycle(10)"
      ],
      "execution_count": null,
      "outputs": [
        {
          "output_type": "display_data",
          "data": {
            "text/html": [
              "<table border=\"1\" class=\"dataframe\">\n",
              "  <thead>\n",
              "    <tr style=\"text-align: left;\">\n",
              "      <th>epoch</th>\n",
              "      <th>train_loss</th>\n",
              "      <th>valid_loss</th>\n",
              "      <th>error_rate</th>\n",
              "      <th>time</th>\n",
              "    </tr>\n",
              "  </thead>\n",
              "  <tbody>\n",
              "    <tr>\n",
              "      <td>0</td>\n",
              "      <td>0.650460</td>\n",
              "      <td>0.529145</td>\n",
              "      <td>0.170530</td>\n",
              "      <td>00:13</td>\n",
              "    </tr>\n",
              "    <tr>\n",
              "      <td>1</td>\n",
              "      <td>0.633157</td>\n",
              "      <td>0.538347</td>\n",
              "      <td>0.163907</td>\n",
              "      <td>00:13</td>\n",
              "    </tr>\n",
              "    <tr>\n",
              "      <td>2</td>\n",
              "      <td>0.651100</td>\n",
              "      <td>0.560019</td>\n",
              "      <td>0.175497</td>\n",
              "      <td>00:13</td>\n",
              "    </tr>\n",
              "    <tr>\n",
              "      <td>3</td>\n",
              "      <td>0.667550</td>\n",
              "      <td>0.523366</td>\n",
              "      <td>0.157285</td>\n",
              "      <td>00:13</td>\n",
              "    </tr>\n",
              "    <tr>\n",
              "      <td>4</td>\n",
              "      <td>0.646837</td>\n",
              "      <td>0.452810</td>\n",
              "      <td>0.135762</td>\n",
              "      <td>00:13</td>\n",
              "    </tr>\n",
              "    <tr>\n",
              "      <td>5</td>\n",
              "      <td>0.599577</td>\n",
              "      <td>0.434989</td>\n",
              "      <td>0.127483</td>\n",
              "      <td>00:13</td>\n",
              "    </tr>\n",
              "    <tr>\n",
              "      <td>6</td>\n",
              "      <td>0.552339</td>\n",
              "      <td>0.385256</td>\n",
              "      <td>0.122517</td>\n",
              "      <td>00:13</td>\n",
              "    </tr>\n",
              "    <tr>\n",
              "      <td>7</td>\n",
              "      <td>0.518842</td>\n",
              "      <td>0.375159</td>\n",
              "      <td>0.110927</td>\n",
              "      <td>00:13</td>\n",
              "    </tr>\n",
              "    <tr>\n",
              "      <td>8</td>\n",
              "      <td>0.491737</td>\n",
              "      <td>0.391763</td>\n",
              "      <td>0.122517</td>\n",
              "      <td>00:13</td>\n",
              "    </tr>\n",
              "    <tr>\n",
              "      <td>9</td>\n",
              "      <td>0.484344</td>\n",
              "      <td>0.374017</td>\n",
              "      <td>0.107616</td>\n",
              "      <td>00:13</td>\n",
              "    </tr>\n",
              "  </tbody>\n",
              "</table>"
            ],
            "text/plain": [
              "<IPython.core.display.HTML object>"
            ]
          },
          "metadata": {
            "tags": []
          }
        }
      ]
    },
    {
      "cell_type": "code",
      "metadata": {
        "id": "HLtS-Z-dU92i",
        "colab_type": "code",
        "colab": {}
      },
      "source": [
        "learn.save('stage-3')"
      ],
      "execution_count": null,
      "outputs": []
    },
    {
      "cell_type": "code",
      "metadata": {
        "id": "yZDls63zVQKy",
        "colab_type": "code",
        "colab": {
          "base_uri": "https://localhost:8080/",
          "height": 669
        },
        "outputId": "fe9db05f-dc66-43ef-c01a-91dcd01bf48d"
      },
      "source": [
        "learn.fit_one_cycle(20)"
      ],
      "execution_count": null,
      "outputs": [
        {
          "output_type": "display_data",
          "data": {
            "text/html": [
              "<table border=\"1\" class=\"dataframe\">\n",
              "  <thead>\n",
              "    <tr style=\"text-align: left;\">\n",
              "      <th>epoch</th>\n",
              "      <th>train_loss</th>\n",
              "      <th>valid_loss</th>\n",
              "      <th>error_rate</th>\n",
              "      <th>time</th>\n",
              "    </tr>\n",
              "  </thead>\n",
              "  <tbody>\n",
              "    <tr>\n",
              "      <td>0</td>\n",
              "      <td>0.463346</td>\n",
              "      <td>0.386194</td>\n",
              "      <td>0.125828</td>\n",
              "      <td>00:13</td>\n",
              "    </tr>\n",
              "    <tr>\n",
              "      <td>1</td>\n",
              "      <td>0.448687</td>\n",
              "      <td>0.370192</td>\n",
              "      <td>0.109272</td>\n",
              "      <td>00:13</td>\n",
              "    </tr>\n",
              "    <tr>\n",
              "      <td>2</td>\n",
              "      <td>0.448903</td>\n",
              "      <td>0.360311</td>\n",
              "      <td>0.110927</td>\n",
              "      <td>00:12</td>\n",
              "    </tr>\n",
              "    <tr>\n",
              "      <td>3</td>\n",
              "      <td>0.448016</td>\n",
              "      <td>0.387280</td>\n",
              "      <td>0.117550</td>\n",
              "      <td>00:13</td>\n",
              "    </tr>\n",
              "    <tr>\n",
              "      <td>4</td>\n",
              "      <td>0.436463</td>\n",
              "      <td>0.338058</td>\n",
              "      <td>0.097682</td>\n",
              "      <td>00:13</td>\n",
              "    </tr>\n",
              "    <tr>\n",
              "      <td>5</td>\n",
              "      <td>0.459173</td>\n",
              "      <td>0.337643</td>\n",
              "      <td>0.104305</td>\n",
              "      <td>00:13</td>\n",
              "    </tr>\n",
              "    <tr>\n",
              "      <td>6</td>\n",
              "      <td>0.446954</td>\n",
              "      <td>0.310811</td>\n",
              "      <td>0.094371</td>\n",
              "      <td>00:13</td>\n",
              "    </tr>\n",
              "    <tr>\n",
              "      <td>7</td>\n",
              "      <td>0.419385</td>\n",
              "      <td>0.301890</td>\n",
              "      <td>0.097682</td>\n",
              "      <td>00:13</td>\n",
              "    </tr>\n",
              "    <tr>\n",
              "      <td>8</td>\n",
              "      <td>0.414283</td>\n",
              "      <td>0.298548</td>\n",
              "      <td>0.094371</td>\n",
              "      <td>00:13</td>\n",
              "    </tr>\n",
              "    <tr>\n",
              "      <td>9</td>\n",
              "      <td>0.384744</td>\n",
              "      <td>0.276230</td>\n",
              "      <td>0.084437</td>\n",
              "      <td>00:13</td>\n",
              "    </tr>\n",
              "    <tr>\n",
              "      <td>10</td>\n",
              "      <td>0.359672</td>\n",
              "      <td>0.262086</td>\n",
              "      <td>0.086093</td>\n",
              "      <td>00:13</td>\n",
              "    </tr>\n",
              "    <tr>\n",
              "      <td>11</td>\n",
              "      <td>0.333963</td>\n",
              "      <td>0.232633</td>\n",
              "      <td>0.076159</td>\n",
              "      <td>00:13</td>\n",
              "    </tr>\n",
              "    <tr>\n",
              "      <td>12</td>\n",
              "      <td>0.314438</td>\n",
              "      <td>0.226272</td>\n",
              "      <td>0.071192</td>\n",
              "      <td>00:13</td>\n",
              "    </tr>\n",
              "    <tr>\n",
              "      <td>13</td>\n",
              "      <td>0.296827</td>\n",
              "      <td>0.212610</td>\n",
              "      <td>0.071192</td>\n",
              "      <td>00:13</td>\n",
              "    </tr>\n",
              "    <tr>\n",
              "      <td>14</td>\n",
              "      <td>0.272416</td>\n",
              "      <td>0.228813</td>\n",
              "      <td>0.066225</td>\n",
              "      <td>00:13</td>\n",
              "    </tr>\n",
              "    <tr>\n",
              "      <td>15</td>\n",
              "      <td>0.252427</td>\n",
              "      <td>0.220326</td>\n",
              "      <td>0.071192</td>\n",
              "      <td>00:13</td>\n",
              "    </tr>\n",
              "    <tr>\n",
              "      <td>16</td>\n",
              "      <td>0.250616</td>\n",
              "      <td>0.214349</td>\n",
              "      <td>0.076159</td>\n",
              "      <td>00:13</td>\n",
              "    </tr>\n",
              "    <tr>\n",
              "      <td>17</td>\n",
              "      <td>0.241081</td>\n",
              "      <td>0.221168</td>\n",
              "      <td>0.079470</td>\n",
              "      <td>00:13</td>\n",
              "    </tr>\n",
              "    <tr>\n",
              "      <td>18</td>\n",
              "      <td>0.251505</td>\n",
              "      <td>0.216186</td>\n",
              "      <td>0.069536</td>\n",
              "      <td>00:13</td>\n",
              "    </tr>\n",
              "    <tr>\n",
              "      <td>19</td>\n",
              "      <td>0.262640</td>\n",
              "      <td>0.221440</td>\n",
              "      <td>0.074503</td>\n",
              "      <td>00:13</td>\n",
              "    </tr>\n",
              "  </tbody>\n",
              "</table>"
            ],
            "text/plain": [
              "<IPython.core.display.HTML object>"
            ]
          },
          "metadata": {
            "tags": []
          }
        }
      ]
    },
    {
      "cell_type": "code",
      "metadata": {
        "id": "krE4Z2hSWHfJ",
        "colab_type": "code",
        "colab": {}
      },
      "source": [
        "learn.save('stage-4')"
      ],
      "execution_count": null,
      "outputs": []
    },
    {
      "cell_type": "code",
      "metadata": {
        "id": "qmblwoW-WMJa",
        "colab_type": "code",
        "colab": {
          "base_uri": "https://localhost:8080/",
          "height": 979
        },
        "outputId": "f984dcea-20d2-4aa4-c8ea-27dcdca79338"
      },
      "source": [
        "learn.fit_one_cycle(30)"
      ],
      "execution_count": null,
      "outputs": [
        {
          "output_type": "display_data",
          "data": {
            "text/html": [
              "<table border=\"1\" class=\"dataframe\">\n",
              "  <thead>\n",
              "    <tr style=\"text-align: left;\">\n",
              "      <th>epoch</th>\n",
              "      <th>train_loss</th>\n",
              "      <th>valid_loss</th>\n",
              "      <th>error_rate</th>\n",
              "      <th>time</th>\n",
              "    </tr>\n",
              "  </thead>\n",
              "  <tbody>\n",
              "    <tr>\n",
              "      <td>0</td>\n",
              "      <td>0.224319</td>\n",
              "      <td>0.218703</td>\n",
              "      <td>0.069536</td>\n",
              "      <td>00:13</td>\n",
              "    </tr>\n",
              "    <tr>\n",
              "      <td>1</td>\n",
              "      <td>0.245522</td>\n",
              "      <td>0.215905</td>\n",
              "      <td>0.067881</td>\n",
              "      <td>00:13</td>\n",
              "    </tr>\n",
              "    <tr>\n",
              "      <td>2</td>\n",
              "      <td>0.241867</td>\n",
              "      <td>0.207495</td>\n",
              "      <td>0.067881</td>\n",
              "      <td>00:13</td>\n",
              "    </tr>\n",
              "    <tr>\n",
              "      <td>3</td>\n",
              "      <td>0.239570</td>\n",
              "      <td>0.217907</td>\n",
              "      <td>0.077815</td>\n",
              "      <td>00:13</td>\n",
              "    </tr>\n",
              "    <tr>\n",
              "      <td>4</td>\n",
              "      <td>0.244370</td>\n",
              "      <td>0.187456</td>\n",
              "      <td>0.067881</td>\n",
              "      <td>00:13</td>\n",
              "    </tr>\n",
              "    <tr>\n",
              "      <td>5</td>\n",
              "      <td>0.245022</td>\n",
              "      <td>0.193542</td>\n",
              "      <td>0.067881</td>\n",
              "      <td>00:13</td>\n",
              "    </tr>\n",
              "    <tr>\n",
              "      <td>6</td>\n",
              "      <td>0.252218</td>\n",
              "      <td>0.193976</td>\n",
              "      <td>0.066225</td>\n",
              "      <td>00:13</td>\n",
              "    </tr>\n",
              "    <tr>\n",
              "      <td>7</td>\n",
              "      <td>0.248866</td>\n",
              "      <td>0.179475</td>\n",
              "      <td>0.062914</td>\n",
              "      <td>00:13</td>\n",
              "    </tr>\n",
              "    <tr>\n",
              "      <td>8</td>\n",
              "      <td>0.252515</td>\n",
              "      <td>0.188999</td>\n",
              "      <td>0.067881</td>\n",
              "      <td>00:13</td>\n",
              "    </tr>\n",
              "    <tr>\n",
              "      <td>9</td>\n",
              "      <td>0.260168</td>\n",
              "      <td>0.216662</td>\n",
              "      <td>0.072848</td>\n",
              "      <td>00:13</td>\n",
              "    </tr>\n",
              "    <tr>\n",
              "      <td>10</td>\n",
              "      <td>0.249821</td>\n",
              "      <td>0.207977</td>\n",
              "      <td>0.077815</td>\n",
              "      <td>00:13</td>\n",
              "    </tr>\n",
              "    <tr>\n",
              "      <td>11</td>\n",
              "      <td>0.241806</td>\n",
              "      <td>0.203566</td>\n",
              "      <td>0.071192</td>\n",
              "      <td>00:13</td>\n",
              "    </tr>\n",
              "    <tr>\n",
              "      <td>12</td>\n",
              "      <td>0.222364</td>\n",
              "      <td>0.169353</td>\n",
              "      <td>0.056291</td>\n",
              "      <td>00:13</td>\n",
              "    </tr>\n",
              "    <tr>\n",
              "      <td>13</td>\n",
              "      <td>0.212358</td>\n",
              "      <td>0.151379</td>\n",
              "      <td>0.054636</td>\n",
              "      <td>00:13</td>\n",
              "    </tr>\n",
              "    <tr>\n",
              "      <td>14</td>\n",
              "      <td>0.214842</td>\n",
              "      <td>0.145906</td>\n",
              "      <td>0.046358</td>\n",
              "      <td>00:13</td>\n",
              "    </tr>\n",
              "    <tr>\n",
              "      <td>15</td>\n",
              "      <td>0.205287</td>\n",
              "      <td>0.148888</td>\n",
              "      <td>0.052980</td>\n",
              "      <td>00:13</td>\n",
              "    </tr>\n",
              "    <tr>\n",
              "      <td>16</td>\n",
              "      <td>0.189259</td>\n",
              "      <td>0.163022</td>\n",
              "      <td>0.051325</td>\n",
              "      <td>00:13</td>\n",
              "    </tr>\n",
              "    <tr>\n",
              "      <td>17</td>\n",
              "      <td>0.184975</td>\n",
              "      <td>0.148934</td>\n",
              "      <td>0.051325</td>\n",
              "      <td>00:13</td>\n",
              "    </tr>\n",
              "    <tr>\n",
              "      <td>18</td>\n",
              "      <td>0.181858</td>\n",
              "      <td>0.156006</td>\n",
              "      <td>0.059603</td>\n",
              "      <td>00:13</td>\n",
              "    </tr>\n",
              "    <tr>\n",
              "      <td>19</td>\n",
              "      <td>0.160378</td>\n",
              "      <td>0.134736</td>\n",
              "      <td>0.052980</td>\n",
              "      <td>00:13</td>\n",
              "    </tr>\n",
              "    <tr>\n",
              "      <td>20</td>\n",
              "      <td>0.159121</td>\n",
              "      <td>0.141791</td>\n",
              "      <td>0.056291</td>\n",
              "      <td>00:13</td>\n",
              "    </tr>\n",
              "    <tr>\n",
              "      <td>21</td>\n",
              "      <td>0.142251</td>\n",
              "      <td>0.143241</td>\n",
              "      <td>0.054636</td>\n",
              "      <td>00:13</td>\n",
              "    </tr>\n",
              "    <tr>\n",
              "      <td>22</td>\n",
              "      <td>0.133470</td>\n",
              "      <td>0.140144</td>\n",
              "      <td>0.049669</td>\n",
              "      <td>00:13</td>\n",
              "    </tr>\n",
              "    <tr>\n",
              "      <td>23</td>\n",
              "      <td>0.148334</td>\n",
              "      <td>0.126629</td>\n",
              "      <td>0.046358</td>\n",
              "      <td>00:13</td>\n",
              "    </tr>\n",
              "    <tr>\n",
              "      <td>24</td>\n",
              "      <td>0.153700</td>\n",
              "      <td>0.139974</td>\n",
              "      <td>0.056291</td>\n",
              "      <td>00:13</td>\n",
              "    </tr>\n",
              "    <tr>\n",
              "      <td>25</td>\n",
              "      <td>0.147358</td>\n",
              "      <td>0.137035</td>\n",
              "      <td>0.052980</td>\n",
              "      <td>00:13</td>\n",
              "    </tr>\n",
              "    <tr>\n",
              "      <td>26</td>\n",
              "      <td>0.153338</td>\n",
              "      <td>0.132005</td>\n",
              "      <td>0.054636</td>\n",
              "      <td>00:13</td>\n",
              "    </tr>\n",
              "    <tr>\n",
              "      <td>27</td>\n",
              "      <td>0.139365</td>\n",
              "      <td>0.135691</td>\n",
              "      <td>0.046358</td>\n",
              "      <td>00:13</td>\n",
              "    </tr>\n",
              "    <tr>\n",
              "      <td>28</td>\n",
              "      <td>0.139606</td>\n",
              "      <td>0.131243</td>\n",
              "      <td>0.048013</td>\n",
              "      <td>00:13</td>\n",
              "    </tr>\n",
              "    <tr>\n",
              "      <td>29</td>\n",
              "      <td>0.138356</td>\n",
              "      <td>0.127533</td>\n",
              "      <td>0.043046</td>\n",
              "      <td>00:13</td>\n",
              "    </tr>\n",
              "  </tbody>\n",
              "</table>"
            ],
            "text/plain": [
              "<IPython.core.display.HTML object>"
            ]
          },
          "metadata": {
            "tags": []
          }
        }
      ]
    },
    {
      "cell_type": "code",
      "metadata": {
        "id": "nJGWDi4_X9IG",
        "colab_type": "code",
        "colab": {}
      },
      "source": [
        "learn.save('stage-5')"
      ],
      "execution_count": null,
      "outputs": []
    },
    {
      "cell_type": "code",
      "metadata": {
        "id": "_ZwK5J1WYUOn",
        "colab_type": "code",
        "colab": {
          "base_uri": "https://localhost:8080/",
          "height": 34
        },
        "outputId": "1d47b7f3-4915-4627-a062-9c2b6cc35d02"
      },
      "source": [
        "mnist_data.classes"
      ],
      "execution_count": null,
      "outputs": [
        {
          "output_type": "execute_result",
          "data": {
            "text/plain": [
              "['1', '2', '3', '4', '5', '6', '7', '8', '9', 'blank']"
            ]
          },
          "metadata": {
            "tags": []
          },
          "execution_count": 713
        }
      ]
    },
    {
      "cell_type": "code",
      "metadata": {
        "id": "8nr71qI7Y6sP",
        "colab_type": "code",
        "colab": {}
      },
      "source": [
        "classes = ['1', '2', '3', '4', '5', '6', '7', '8', '9', 'blank']"
      ],
      "execution_count": null,
      "outputs": []
    },
    {
      "cell_type": "code",
      "metadata": {
        "id": "lxdvJo2taN0u",
        "colab_type": "code",
        "colab": {}
      },
      "source": [
        "learn.unfreeze()"
      ],
      "execution_count": null,
      "outputs": []
    },
    {
      "cell_type": "code",
      "metadata": {
        "id": "Bb5Wx7y8a-Qn",
        "colab_type": "code",
        "colab": {
          "base_uri": "https://localhost:8080/",
          "height": 514
        },
        "outputId": "3b75fe8a-dc1e-4445-9a61-42b615651841"
      },
      "source": [
        "learn.fit_one_cycle(15, max_lr=slice(1e-3,1e-2))"
      ],
      "execution_count": null,
      "outputs": [
        {
          "output_type": "display_data",
          "data": {
            "text/html": [
              "<table border=\"1\" class=\"dataframe\">\n",
              "  <thead>\n",
              "    <tr style=\"text-align: left;\">\n",
              "      <th>epoch</th>\n",
              "      <th>train_loss</th>\n",
              "      <th>valid_loss</th>\n",
              "      <th>error_rate</th>\n",
              "      <th>time</th>\n",
              "    </tr>\n",
              "  </thead>\n",
              "  <tbody>\n",
              "    <tr>\n",
              "      <td>0</td>\n",
              "      <td>0.281334</td>\n",
              "      <td>0.346231</td>\n",
              "      <td>0.147351</td>\n",
              "      <td>00:14</td>\n",
              "    </tr>\n",
              "    <tr>\n",
              "      <td>1</td>\n",
              "      <td>0.288852</td>\n",
              "      <td>0.277881</td>\n",
              "      <td>0.051325</td>\n",
              "      <td>00:13</td>\n",
              "    </tr>\n",
              "    <tr>\n",
              "      <td>2</td>\n",
              "      <td>0.276125</td>\n",
              "      <td>0.191421</td>\n",
              "      <td>0.056291</td>\n",
              "      <td>00:13</td>\n",
              "    </tr>\n",
              "    <tr>\n",
              "      <td>3</td>\n",
              "      <td>0.281469</td>\n",
              "      <td>0.764626</td>\n",
              "      <td>0.152318</td>\n",
              "      <td>00:13</td>\n",
              "    </tr>\n",
              "    <tr>\n",
              "      <td>4</td>\n",
              "      <td>0.283507</td>\n",
              "      <td>0.174161</td>\n",
              "      <td>0.043046</td>\n",
              "      <td>00:13</td>\n",
              "    </tr>\n",
              "    <tr>\n",
              "      <td>5</td>\n",
              "      <td>0.228578</td>\n",
              "      <td>0.244549</td>\n",
              "      <td>0.066225</td>\n",
              "      <td>00:13</td>\n",
              "    </tr>\n",
              "    <tr>\n",
              "      <td>6</td>\n",
              "      <td>0.189114</td>\n",
              "      <td>0.415062</td>\n",
              "      <td>0.087748</td>\n",
              "      <td>00:13</td>\n",
              "    </tr>\n",
              "    <tr>\n",
              "      <td>7</td>\n",
              "      <td>0.175920</td>\n",
              "      <td>0.338867</td>\n",
              "      <td>0.082781</td>\n",
              "      <td>00:13</td>\n",
              "    </tr>\n",
              "    <tr>\n",
              "      <td>8</td>\n",
              "      <td>0.147082</td>\n",
              "      <td>0.123228</td>\n",
              "      <td>0.039735</td>\n",
              "      <td>00:13</td>\n",
              "    </tr>\n",
              "    <tr>\n",
              "      <td>9</td>\n",
              "      <td>0.110362</td>\n",
              "      <td>0.097355</td>\n",
              "      <td>0.024834</td>\n",
              "      <td>00:13</td>\n",
              "    </tr>\n",
              "    <tr>\n",
              "      <td>10</td>\n",
              "      <td>0.071067</td>\n",
              "      <td>0.070408</td>\n",
              "      <td>0.024834</td>\n",
              "      <td>00:13</td>\n",
              "    </tr>\n",
              "    <tr>\n",
              "      <td>11</td>\n",
              "      <td>0.060650</td>\n",
              "      <td>0.046881</td>\n",
              "      <td>0.011589</td>\n",
              "      <td>00:13</td>\n",
              "    </tr>\n",
              "    <tr>\n",
              "      <td>12</td>\n",
              "      <td>0.041593</td>\n",
              "      <td>0.054938</td>\n",
              "      <td>0.016556</td>\n",
              "      <td>00:13</td>\n",
              "    </tr>\n",
              "    <tr>\n",
              "      <td>13</td>\n",
              "      <td>0.025580</td>\n",
              "      <td>0.043272</td>\n",
              "      <td>0.013245</td>\n",
              "      <td>00:13</td>\n",
              "    </tr>\n",
              "    <tr>\n",
              "      <td>14</td>\n",
              "      <td>0.021359</td>\n",
              "      <td>0.042287</td>\n",
              "      <td>0.013245</td>\n",
              "      <td>00:13</td>\n",
              "    </tr>\n",
              "  </tbody>\n",
              "</table>"
            ],
            "text/plain": [
              "<IPython.core.display.HTML object>"
            ]
          },
          "metadata": {
            "tags": []
          }
        }
      ]
    },
    {
      "cell_type": "code",
      "metadata": {
        "id": "MHhX0PuWdJkt",
        "colab_type": "code",
        "colab": {}
      },
      "source": [
        "learn.save('unfrozen-1')"
      ],
      "execution_count": null,
      "outputs": []
    },
    {
      "cell_type": "code",
      "metadata": {
        "id": "WXliK3lMwVpl",
        "colab_type": "code",
        "colab": {}
      },
      "source": [
        "learn.load('unfrozen-1')"
      ],
      "execution_count": null,
      "outputs": []
    },
    {
      "cell_type": "markdown",
      "metadata": {
        "id": "lmWvgQ9feWVH",
        "colab_type": "text"
      },
      "source": [
        "# **Sudoku Grid Formation**"
      ]
    },
    {
      "cell_type": "code",
      "metadata": {
        "id": "gZsdhK4V3x4m",
        "colab_type": "code",
        "colab": {}
      },
      "source": [
        "extra_path = 'drive/My Drive/extra training digits'"
      ],
      "execution_count": null,
      "outputs": []
    },
    {
      "cell_type": "code",
      "metadata": {
        "id": "qfkVUKcvEMX5",
        "colab_type": "code",
        "colab": {}
      },
      "source": [
        "for i in range(81):\n",
        "  cv2.imwrite(f'{extra_path}/{i}.jpg', cropped_final[i])"
      ],
      "execution_count": null,
      "outputs": []
    },
    {
      "cell_type": "code",
      "metadata": {
        "id": "yy7i5-H3dU97",
        "colab_type": "code",
        "colab": {}
      },
      "source": [
        "sudoku_grid = []\n",
        "\n",
        "for i in range(9):\n",
        "  temp = []\n",
        "  for j in range(9):\n",
        "    img_fastai = open_image(f'{extra_path}/{i*9+j}.jpg')\n",
        "    pred_class,pred_idx,outputs = learn.predict(img_fastai)\n",
        "    pred = (int(pred_class) + 1) % 10\n",
        "    temp.append(pred)\n",
        "  sudoku_grid.append(temp)\n",
        "  "
      ],
      "execution_count": null,
      "outputs": []
    },
    {
      "cell_type": "code",
      "metadata": {
        "id": "F2mXaXyHibrh",
        "colab_type": "code",
        "colab": {
          "base_uri": "https://localhost:8080/",
          "height": 457
        },
        "outputId": "a72f9cf9-a168-4490-8e85-b93d464a71ca"
      },
      "source": [
        "cv2_imshow(final_img)"
      ],
      "execution_count": null,
      "outputs": [
        {
          "output_type": "display_data",
          "data": {
            "image/png": "[encoded data removed]",
            "text/plain": [
              "<PIL.Image.Image image mode=L size=440x440 at 0x7F146FAE82E8>"
            ]
          },
          "metadata": {
            "tags": []
          }
        }
      ]
    },
    {
      "cell_type": "code",
      "metadata": {
        "id": "__GUVEQFxN98",
        "colab_type": "code",
        "colab": {
          "base_uri": "https://localhost:8080/",
          "height": 170
        },
        "outputId": "7a28c834-1465-4af1-fc8a-a81c8274a522"
      },
      "source": [
        "sudoku_grid"
      ],
      "execution_count": null,
      "outputs": [
        {
          "output_type": "execute_result",
          "data": {
            "text/plain": [
              "[[0, 6, 0, 0, 0, 1, 0, 0, 0],\n",
              " [0, 0, 0, 8, 0, 6, 2, 1, 0],\n",
              " [0, 0, 0, 0, 0, 0, 0, 9, 0],\n",
              " [0, 0, 0, 3, 4, 0, 0, 7, 9],\n",
              " [0, 4, 3, 5, 0, 9, 0, 0, 0],\n",
              " [0, 0, 9, 0, 1, 8, 0, 6, 0],\n",
              " [5, 9, 7, 1, 8, 0, 0, 0, 0],\n",
              " [0, 0, 4, 0, 7, 0, 0, 0, 5],\n",
              " [0, 0, 2, 0, 0, 0, 0, 0, 0]]"
            ]
          },
          "metadata": {
            "tags": []
          },
          "execution_count": 725
        }
      ]
    },
    {
      "cell_type": "markdown",
      "metadata": {
        "id": "RACN5qIZnaET",
        "colab_type": "text"
      },
      "source": [
        "# **Solving the Puzzle**"
      ]
    },
    {
      "cell_type": "code",
      "metadata": {
        "id": "PPmUH4NjnfMy",
        "colab_type": "code",
        "colab": {}
      },
      "source": [
        "def solve(grid):\n",
        "    find = find_empty(grid)\n",
        "    if not find:\n",
        "        return True\n",
        "    else:\n",
        "        row, col = find\n",
        "\n",
        "    for i in range(1,10):\n",
        "        if valid(grid, i, (row, col)):\n",
        "            grid[row][col] = i\n",
        "\n",
        "            if solve(grid):\n",
        "                return True\n",
        "\n",
        "            grid[row][col] = 0\n",
        "\n",
        "    return False\n",
        "\n",
        "\n",
        "def valid(grid, num, pos):\n",
        "    # Check row\n",
        "    for i in range(len(grid[0])):\n",
        "        if grid[pos[0]][i] == num and pos[1] != i:\n",
        "            return False\n",
        "\n",
        "    # Check column\n",
        "    for i in range(len(grid)):\n",
        "        if grid[i][pos[1]] == num and pos[0] != i:\n",
        "            return False\n",
        "\n",
        "    # Check box\n",
        "    box_x = pos[1] // 3\n",
        "    box_y = pos[0] // 3\n",
        "\n",
        "    for i in range(box_y*3, box_y*3 + 3):\n",
        "        for j in range(box_x * 3, box_x*3 + 3):\n",
        "            if grid[i][j] == num and (i,j) != pos:\n",
        "                return False\n",
        "\n",
        "    return True\n",
        "\n",
        "def find_empty(grid):\n",
        "    for i in range(len(grid)):\n",
        "        for j in range(len(grid[0])):\n",
        "            if grid[i][j] == 0:\n",
        "                return (i, j) \n",
        "\n",
        "    return None"
      ],
      "execution_count": null,
      "outputs": []
    },
    {
      "cell_type": "code",
      "metadata": {
        "id": "DwndGqlxrTDs",
        "colab_type": "code",
        "colab": {
          "base_uri": "https://localhost:8080/",
          "height": 34
        },
        "outputId": "3d3ac3c6-6bee-4e16-c755-2345eb2f7fb3"
      },
      "source": [
        "solve(sudoku_grid)"
      ],
      "execution_count": null,
      "outputs": [
        {
          "output_type": "execute_result",
          "data": {
            "text/plain": [
              "True"
            ]
          },
          "metadata": {
            "tags": []
          },
          "execution_count": 726
        }
      ]
    },
    {
      "cell_type": "code",
      "metadata": {
        "id": "VXQMbukTraMw",
        "colab_type": "code",
        "colab": {
          "base_uri": "https://localhost:8080/",
          "height": 170
        },
        "outputId": "c9508eba-00aa-4a0c-f062-2a248b027d33"
      },
      "source": [
        "for i in range(9):\n",
        "  for j in range(9):\n",
        "    print(sudoku_grid[i][j], end=\" \")\n",
        "  print()  "
      ],
      "execution_count": null,
      "outputs": [
        {
          "output_type": "stream",
          "text": [
            "4 6 8 9 2 1 3 5 7 \n",
            "9 7 5 8 3 6 2 1 4 \n",
            "3 2 1 4 5 7 8 9 6 \n",
            "1 8 6 3 4 2 5 7 9 \n",
            "7 4 3 5 6 9 1 2 8 \n",
            "2 5 9 7 1 8 4 6 3 \n",
            "5 9 7 1 8 4 6 3 2 \n",
            "6 1 4 2 7 3 9 8 5 \n",
            "8 3 2 6 9 5 7 4 1 \n"
          ],
          "name": "stdout"
        }
      ]
    }
  ]
}